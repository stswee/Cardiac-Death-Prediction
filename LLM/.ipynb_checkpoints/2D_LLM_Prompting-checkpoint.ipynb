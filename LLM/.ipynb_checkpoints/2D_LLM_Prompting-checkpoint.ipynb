{
 "cells": [
  {
   "cell_type": "markdown",
   "id": "a50f598f-0320-423a-80cc-a0453a870a27",
   "metadata": {},
   "source": [
    "### Plan D:\n",
    "ECG Impressions + Clinical Features -> LLM -> 1 response\n",
    "\n",
    "Follow prompt in Table 6 of this paper: https://arxiv.org/pdf/2305.19523"
   ]
  },
  {
   "cell_type": "code",
   "execution_count": 1,
   "id": "401a9a83-7254-4446-bf0f-615d867acccd",
   "metadata": {},
   "outputs": [
    {
     "name": "stderr",
     "output_type": "stream",
     "text": [
      "/home/sswee/myenv/lib/python3.10/site-packages/tqdm/auto.py:21: TqdmWarning: IProgress not found. Please update jupyter and ipywidgets. See https://ipywidgets.readthedocs.io/en/stable/user_install.html\n",
      "  from .autonotebook import tqdm as notebook_tqdm\n"
     ]
    },
    {
     "name": "stdout",
     "output_type": "stream",
     "text": [
      "Available GPUs: 2\n",
      "GPU 0: NVIDIA A100-SXM4-40GB\n",
      "GPU 1: NVIDIA A100-SXM4-40GB\n"
     ]
    },
    {
     "data": {
      "text/plain": [
       "<torch._C.Generator at 0x7f931937e970>"
      ]
     },
     "execution_count": 1,
     "metadata": {},
     "output_type": "execute_result"
    }
   ],
   "source": [
    "# Import packages\n",
    "import json\n",
    "from huggingface_hub import login\n",
    "from transformers import AutoModel, AutoModelForCausalLM, AutoTokenizer, pipeline\n",
    "import transformers\n",
    "import random\n",
    "import torch\n",
    "import time\n",
    "import re\n",
    "from tqdm import tqdm\n",
    "import pandas as pd\n",
    "\n",
    "# Set GPUs\n",
    "import os\n",
    "os.environ[\"CUDA_VISIBLE_DEVICES\"] = \"0,1\"\n",
    "\n",
    "print(\"Available GPUs:\", torch.cuda.device_count())\n",
    "for i in range(torch.cuda.device_count()):\n",
    "    print(f\"GPU {i}: {torch.cuda.get_device_name(i)}\")\n",
    "\n",
    "# Set seeds\n",
    "random.seed(0)\n",
    "torch.manual_seed(0)"
   ]
  },
  {
   "cell_type": "code",
   "execution_count": 2,
   "id": "2ffb389e-c7cd-4a03-832c-0f1ef36db15f",
   "metadata": {},
   "outputs": [
    {
     "name": "stderr",
     "output_type": "stream",
     "text": [
      "Loading checkpoint shards: 100%|█████████████████████████████████████████████████████████████████████████████████████████████████████████████████████████████████| 4/4 [00:07<00:00,  1.81s/it]\n"
     ]
    }
   ],
   "source": [
    "# Log into Huggingface\n",
    "with open(\"../../huggingface_token.txt\", \"r\") as file:\n",
    "    access_token = file.read().strip()\n",
    "login(access_token)\n",
    "\n",
    "# Load Huggingface Model\n",
    "model_name = \"meta-llama/Llama-3.1-8B-Instruct\"\n",
    "tokenizer = AutoTokenizer.from_pretrained(model_name)\n",
    "model = AutoModelForCausalLM.from_pretrained(model_name, token=access_token, low_cpu_mem_usage=True,\n",
    "                    torch_dtype=torch.float16, device_map='auto')"
   ]
  },
  {
   "cell_type": "code",
   "execution_count": 16,
   "id": "144e24f0-208a-4c55-b14c-fe5ded7ad4eb",
   "metadata": {},
   "outputs": [],
   "source": [
    "def get_message(note):\n",
    "    system = 'You are a cardiologist. Your task is to generate a prognosis for the next few years with reasoning. The three possible prognoses are survivor, sudden cardiac death, and pump failure death. Order the three prognoses from most likely to least likely and explain the reasoning behind the order. Please structure the results as follows: RANKING: [Your ranking here] \\n REASONING: [Your explanation here]'\n",
    "    prompt = f\"Here is the patient data: \\n{note}\"\n",
    "\n",
    "    messages = [\n",
    "\t\t{\"role\": \"system\", \"content\": system},\n",
    "\t\t{\"role\": \"user\", \"content\": prompt}\n",
    "\t]\n",
    "\n",
    "    return messages\n",
    "\n",
    "def extract_assistant_response(response):\n",
    "    parts = response.split(\"assistant\\n\\n\", 1)\n",
    "    return parts[1].strip() if len(parts) > 1 else response"
   ]
  },
  {
   "cell_type": "code",
   "execution_count": 17,
   "id": "0835d97c-4089-4672-a3e3-126830d02758",
   "metadata": {},
   "outputs": [],
   "source": [
    "# Load in csv file with prompts\n",
    "df = pd.read_csv(\"../Data/subject-info-cleaned-with-prompts.csv\")\n",
    "# print(df['Prompts'][0])"
   ]
  },
  {
   "cell_type": "code",
   "execution_count": 29,
   "id": "c60e5051-5024-40f9-9fa4-2abf1932afcb",
   "metadata": {},
   "outputs": [
    {
     "data": {
      "text/plain": [
       "[{'role': 'system',\n",
       "  'content': 'You are a cardiologist. Your task is to generate a prognosis for the next few years with reasoning. The three possible prognoses are survivor, sudden cardiac death, and pump failure death. Order the three prognoses from most likely to least likely and explain the reasoning behind the order. Please structure the results as follows: RANKING: [Your ranking here] \\n REASONING: [Your explanation here]'},\n",
       " {'role': 'user',\n",
       "  'content': 'Here is the patient data: \\nAge: 72\\nGender: Male \\nWeight: 81 kg\\nHeight: 168 cm\\nNYHA Class: II\\nBlood Pressure: 100/70 mmHg\\nPast Medical History: Ischemic dilated cardiomyopathy, Myocardial Infarction\\nAlbumin (g/L): 42,6\\nALT or GPT (IU/L): 14.0\\nAST or GOT (IU/L): 24.0\\nTotal Cholesterol (mmol/L): 5,54\\nCreatinine (mmol/L): 130.0\\nGamma-glutamil transpeptidase (IU/L): 12\\nGlucose (mmol/L): 5,7\\nHemoglobin (g/L): 133.0\\nHDL (mmol/L): 1,84\\nPotassium (mEq/L): 3,29\\nLDL (mmol/L): 3,3\\nSodium (mEq/L): 142.0\\nPro-BNP (ng/L): 4250.0\\nProtein (g/L): 71,8\\nTroponin (ng/mL): 0,15\\nTSH (mIU/L): 2,92\\nUrea (mg/dL): 13,5\\nLVEF (%): 30.0\\nMedications: Angiotensin II Receptor Blocker, Beta Blockers, Loop Diuretics, Spironolactone, Statins\\nECG Impression:\\n        - Ventricular Extrasystole: Polymorphic\\n        - Ventricular Tachycardia: No\\n        - Non-sustained ventricular tachycardia (CH>10): No\\n        - Paroxysmal supraventricular tachyarrhythmia: No\\n        - Bradycardia: No\\n            '}]"
      ]
     },
     "execution_count": 29,
     "metadata": {},
     "output_type": "execute_result"
    }
   ],
   "source": [
    "# Test message\n",
    "message = get_message(df['Prompts'][500])\n",
    "message"
   ]
  },
  {
   "cell_type": "code",
   "execution_count": 30,
   "id": "086746f0-5444-4c00-8ea7-bc33f640612a",
   "metadata": {},
   "outputs": [
    {
     "name": "stderr",
     "output_type": "stream",
     "text": [
      "Setting `pad_token_id` to `eos_token_id`:128001 for open-end generation.\n"
     ]
    }
   ],
   "source": [
    "# Put message into LLM\n",
    "input_text = tokenizer.apply_chat_template(message, tokenize = False, add_generation_prompt = True)\n",
    "inputs = tokenizer(input_text, return_tensors = \"pt\").to(model.device)\n",
    "output = model.generate(**inputs, max_new_tokens = 1000)"
   ]
  },
  {
   "cell_type": "code",
   "execution_count": 31,
   "id": "45ea6a42-3c40-4001-ae56-98f5639fb0e0",
   "metadata": {},
   "outputs": [
    {
     "name": "stdout",
     "output_type": "stream",
     "text": [
      "RANKING: 1. Survivor\n",
      " REASONING: The patient has a history of ischemic dilated cardiomyopathy and myocardial infarction, which indicates a high risk of cardiac complications. However, the patient's current medications, including Angiotensin II Receptor Blocker, Beta Blockers, Loop Diuretics, Spironolactone, and Statins, are appropriate for managing heart failure and reducing the risk of further cardiac events. The patient's LVEF (Left Ventricular Ejection Fraction) is 30%, which is low but not extremely low. Additionally, the patient's blood pressure is within a relatively normal range, and the absence of ventricular tachycardia or sustained ventricular tachycardia on the ECG is a positive sign. The patient's NT-proBNP level is elevated at 4250.0 ng/L, which is consistent with heart failure, but the level is not extremely high. Considering these factors, the patient is likely to survive for the next few years with proper medical management and adherence to treatment.\n",
      "\n",
      "RANKING: 2. Pump Failure Death\n",
      " REASONING: The patient's LVEF is 30%, which is a significant indicator of reduced cardiac function and increased risk of pump failure. The patient's NT-proBNP level is also elevated, indicating increased stress on the heart. However, the patient's blood pressure is relatively well-controlled, and the absence of severe arrhythmias on the ECG suggests that the patient's heart is not under extreme stress. The patient's medications are appropriate for managing heart failure, and the patient's laboratory results do not indicate severe liver or kidney dysfunction. While pump failure is a concern, the patient's overall clinical picture suggests that this outcome is less likely than sudden cardiac death.\n",
      "\n",
      "RANKING: 3. Sudden Cardiac Death\n",
      " REASONING: The patient's LVEF is 30%, and the presence of polymorphic ventricular extrasystoles on the ECG indicates a risk of arrhythmias. However, the absence of sustained ventricular tachycardia or other severe arrhythmias on the ECG suggests that the patient's risk of sudden cardiac death is not extremely high. The patient's NT-proBNP level is elevated, but not extremely high, and the patient's blood pressure is relatively well-controlled. The patient's medications are appropriate for managing heart failure and reducing the risk of arrhythmias. While sudden cardiac death is a possible outcome, the patient's overall clinical picture suggests that this outcome is less likely than pump failure.\n"
     ]
    }
   ],
   "source": [
    "# Get result\n",
    "result = tokenizer.decode(output[0], skip_special_tokens = True)\n",
    "result = result.replace(\"**\", \"\")\n",
    "result = extract_assistant_response(result)\n",
    "print(result)"
   ]
  }
 ],
 "metadata": {
  "kernelspec": {
   "display_name": "Python 3 (ipykernel)",
   "language": "python",
   "name": "python3"
  },
  "language_info": {
   "codemirror_mode": {
    "name": "ipython",
    "version": 3
   },
   "file_extension": ".py",
   "mimetype": "text/x-python",
   "name": "python",
   "nbconvert_exporter": "python",
   "pygments_lexer": "ipython3",
   "version": "3.10.12"
  }
 },
 "nbformat": 4,
 "nbformat_minor": 5
}
