{
 "cells": [
  {
   "cell_type": "markdown",
   "id": "a50f598f-0320-423a-80cc-a0453a870a27",
   "metadata": {},
   "source": [
    "### Plan B:\n",
    "ECG Impressions + Clinical Features -> LLM -> 10 responses -> Get most common prediction and most representative response"
   ]
  },
  {
   "cell_type": "code",
   "execution_count": 1,
   "id": "401a9a83-7254-4446-bf0f-615d867acccd",
   "metadata": {},
   "outputs": [
    {
     "name": "stderr",
     "output_type": "stream",
     "text": [
      "/home/sswee/myenv/lib/python3.10/site-packages/tqdm/auto.py:21: TqdmWarning: IProgress not found. Please update jupyter and ipywidgets. See https://ipywidgets.readthedocs.io/en/stable/user_install.html\n",
      "  from .autonotebook import tqdm as notebook_tqdm\n"
     ]
    },
    {
     "name": "stdout",
     "output_type": "stream",
     "text": [
      "Available GPUs: 2\n",
      "GPU 0: NVIDIA A100-SXM4-40GB\n",
      "GPU 1: NVIDIA A100-SXM4-40GB\n"
     ]
    },
    {
     "data": {
      "text/plain": [
       "<torch._C.Generator at 0x7fa5cc166930>"
      ]
     },
     "execution_count": 1,
     "metadata": {},
     "output_type": "execute_result"
    }
   ],
   "source": [
    "# Import packages\n",
    "import json\n",
    "from huggingface_hub import login\n",
    "from transformers import AutoModel, AutoModelForCausalLM, AutoTokenizer, pipeline\n",
    "import transformers\n",
    "import random\n",
    "import torch\n",
    "import time\n",
    "import re\n",
    "from tqdm import tqdm\n",
    "import pandas as pd\n",
    "\n",
    "# Set GPUs\n",
    "import os\n",
    "os.environ[\"CUDA_VISIBLE_DEVICES\"] = \"0,1\"\n",
    "\n",
    "print(\"Available GPUs:\", torch.cuda.device_count())\n",
    "for i in range(torch.cuda.device_count()):\n",
    "    print(f\"GPU {i}: {torch.cuda.get_device_name(i)}\")\n",
    "\n",
    "# Set seeds\n",
    "random.seed(0)\n",
    "torch.manual_seed(0)"
   ]
  },
  {
   "cell_type": "code",
   "execution_count": 2,
   "id": "2ffb389e-c7cd-4a03-832c-0f1ef36db15f",
   "metadata": {},
   "outputs": [
    {
     "name": "stderr",
     "output_type": "stream",
     "text": [
      "Loading checkpoint shards: 100%|██████████████████| 4/4 [00:07<00:00,  1.78s/it]\n"
     ]
    }
   ],
   "source": [
    "# Log into Huggingface\n",
    "with open(\"../../huggingface_token.txt\", \"r\") as file:\n",
    "    access_token = file.read().strip()\n",
    "login(access_token)\n",
    "\n",
    "# Load Huggingface Model\n",
    "model_name = \"meta-llama/Llama-3.1-8B-Instruct\"\n",
    "tokenizer = AutoTokenizer.from_pretrained(model_name)\n",
    "model = AutoModelForCausalLM.from_pretrained(model_name, token=access_token, low_cpu_mem_usage=True,\n",
    "                    torch_dtype=torch.float16, device_map='auto')"
   ]
  },
  {
   "cell_type": "code",
   "execution_count": 39,
   "id": "144e24f0-208a-4c55-b14c-fe5ded7ad4eb",
   "metadata": {},
   "outputs": [],
   "source": [
    "def get_message(note):\n",
    "    system = 'You are a cardiologist. Your task is to generate a prognosis for the next few years with reasoning. The three possible prognoses are survivor, sudden cardiac death, and pump failure death. Please structure the results as follows: PREDICTION: [SURVIVOR | SUDDEN CARDIAC DEATH | PUMP FAILURE DEATH] \\n REASONING: [Your explanation here]'\n",
    "    prompt = f\"Here is the patient data: \\n{note}\"\n",
    "\n",
    "    messages = [\n",
    "\t\t{\"role\": \"system\", \"content\": system},\n",
    "\t\t{\"role\": \"user\", \"content\": prompt}\n",
    "\t]\n",
    "\n",
    "    return messages\n",
    "\n",
    "def extract_assistant_response(response):\n",
    "    parts = response.split(\"assistant\\n\\n\", 1)\n",
    "    return parts[1].strip() if len(parts) > 1 else response"
   ]
  },
  {
   "cell_type": "code",
   "execution_count": 40,
   "id": "0835d97c-4089-4672-a3e3-126830d02758",
   "metadata": {},
   "outputs": [],
   "source": [
    "# Load in csv file with prompts\n",
    "df = pd.read_csv(\"../Data/subject-info-cleaned-with-prompts.csv\")\n",
    "# print(df['Prompts'][0])"
   ]
  },
  {
   "cell_type": "code",
   "execution_count": 44,
   "id": "c60e5051-5024-40f9-9fa4-2abf1932afcb",
   "metadata": {},
   "outputs": [
    {
     "data": {
      "text/plain": [
       "[{'role': 'system',\n",
       "  'content': 'You are a cardiologist. Your task is to generate a prognosis for the next few years with reasoning. The three possible prognoses are survivor, sudden cardiac death, and pump failure death. Please structure the results as follows: PREDICTION: [SURVIVOR | SUDDEN CARDIAC DEATH | PUMP FAILURE DEATH] \\n REASONING: [Your explanation here]'},\n",
       " {'role': 'user',\n",
       "  'content': 'Here is the patient data: \\nAge: 58\\nGender: Male \\nWeight: 83 kg\\nHeight: 163 cm\\nNYHA Class: III\\nBlood Pressure: 110/75 mmHg\\nPast Medical History: Idiopathic dilated cardiomyopathy\\nAlbumin (g/L): 42,4\\nALT or GPT (IU/L): 10.0\\nAST or GOT (IU/L): 20.0\\nTotal Cholesterol (mmol/L): 5,4\\nCreatinine (mmol/L): 106.0\\nGamma-glutamil transpeptidase (IU/L): 20\\nGlucose (mmol/L): 5,7\\nHemoglobin (g/L): 132.0\\nHDL (mmol/L): 1,29\\nPotassium (mEq/L): 4,6\\nLDL (mmol/L): 3,36\\nSodium (mEq/L): 141.0\\nPro-BNP (ng/L): 1834.0\\nProtein (g/L): 69\\nT3 (pg/dL): 0,05\\nT4 (ng/L): 15\\nTroponin (ng/mL): 0,01\\nTSH (mIU/L): 3,02\\nUrea (mg/dL): 7,12\\nLVEF (%): 35.0\\nMedications: Beta Blockers, Digoxin, Loop Diuretics, ACE Inhibitor\\nECG Impression:\\n        - Ventricular Extrasystole: Polymorphic\\n        - Ventricular Tachycardia: Non-sustained VT\\n        - Non-sustained ventricular tachycardia (CH>10): Yes\\n        - Paroxysmal supraventricular tachyarrhythmia: Unknown paroxysmal supraventricular tachyarrhythmia code\\n        - Bradycardia: Unknown bradycardia code\\n            '}]"
      ]
     },
     "execution_count": 44,
     "metadata": {},
     "output_type": "execute_result"
    }
   ],
   "source": [
    "# Test message\n",
    "message = get_message(df['Prompts'][0])\n",
    "message"
   ]
  },
  {
   "cell_type": "code",
   "execution_count": 45,
   "id": "086746f0-5444-4c00-8ea7-bc33f640612a",
   "metadata": {},
   "outputs": [
    {
     "name": "stderr",
     "output_type": "stream",
     "text": [
      "Setting `pad_token_id` to `eos_token_id`:128001 for open-end generation.\n"
     ]
    }
   ],
   "source": [
    "# Put message into LLM\n",
    "input_text = tokenizer.apply_chat_template(message, tokenize = False, add_generation_prompt = True)\n",
    "inputs = tokenizer(input_text, return_tensors = \"pt\").to(model.device)\n",
    "output = model.generate(**inputs, max_new_tokens = 1000)"
   ]
  },
  {
   "cell_type": "code",
   "execution_count": 46,
   "id": "45ea6a42-3c40-4001-ae56-98f5639fb0e0",
   "metadata": {},
   "outputs": [
    {
     "name": "stdout",
     "output_type": "stream",
     "text": [
      "PREDICTION: SURVIVOR\n",
      "REASONING: \n",
      "\n",
      "This patient has a complex medical history, including idiopathic dilated cardiomyopathy, which is a significant risk factor for heart failure. However, the patient's current medications (Beta Blockers, Digoxin, Loop Diuretics, ACE Inhibitor) are standard treatments for heart failure and are aimed at reducing symptoms and slowing disease progression. \n",
      "\n",
      "The patient's LVEF of 35% indicates a moderately reduced ejection fraction, but it is not severely reduced, and the patient is currently tolerating these symptoms with NYHA Class III, indicating some limitations but not severe symptoms.\n",
      "\n",
      "The patient's laboratory results show elevated Pro-BNP levels, which is a marker of heart failure, but the albumin levels are within a relatively normal range, suggesting that the patient is not severely malnourished. The liver enzymes are also within a relatively normal range, which suggests that the patient's liver function is intact.\n",
      "\n",
      "The patient's ECG shows polymorphic ventricular extrasystoles and non-sustained ventricular tachycardia, which are concerning but not necessarily predictive of sudden cardiac death. The patient's TSH levels are within a relatively normal range, suggesting that there is no significant thyroid dysfunction.\n",
      "\n",
      "While the patient's creatinine levels are elevated, indicating some degree of renal impairment, the urea levels are not severely elevated, suggesting that the patient's renal function is not severely compromised.\n",
      "\n",
      "Considering the patient's overall clinical picture, I believe that the patient is likely to survive the next few years, with close monitoring and adherence to their current treatment regimen. However, it is essential to continue monitoring the patient's symptoms, renal function, and liver function to adjust the treatment plan as necessary.\n"
     ]
    }
   ],
   "source": [
    "# Get result\n",
    "result = tokenizer.decode(output[0], skip_special_tokens = True)\n",
    "result = result.replace(\"**\", \"\")\n",
    "result = extract_assistant_response(result)\n",
    "print(result)"
   ]
  }
 ],
 "metadata": {
  "kernelspec": {
   "display_name": "Python 3 (ipykernel)",
   "language": "python",
   "name": "python3"
  },
  "language_info": {
   "codemirror_mode": {
    "name": "ipython",
    "version": 3
   },
   "file_extension": ".py",
   "mimetype": "text/x-python",
   "name": "python",
   "nbconvert_exporter": "python",
   "pygments_lexer": "ipython3",
   "version": "3.10.12"
  }
 },
 "nbformat": 4,
 "nbformat_minor": 5
}
