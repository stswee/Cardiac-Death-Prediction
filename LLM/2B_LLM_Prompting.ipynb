{
 "cells": [
  {
   "cell_type": "markdown",
   "id": "a50f598f-0320-423a-80cc-a0453a870a27",
   "metadata": {},
   "source": [
    "### Plan B:\n",
    "ECG Impressions + Clinical Features + Outcome -> LLM -> 1 response"
   ]
  },
  {
   "cell_type": "code",
   "execution_count": 1,
   "id": "401a9a83-7254-4446-bf0f-615d867acccd",
   "metadata": {},
   "outputs": [
    {
     "name": "stderr",
     "output_type": "stream",
     "text": [
      "/home/sswee/myenv/lib/python3.10/site-packages/tqdm/auto.py:21: TqdmWarning: IProgress not found. Please update jupyter and ipywidgets. See https://ipywidgets.readthedocs.io/en/stable/user_install.html\n",
      "  from .autonotebook import tqdm as notebook_tqdm\n"
     ]
    },
    {
     "name": "stdout",
     "output_type": "stream",
     "text": [
      "Available GPUs: 2\n",
      "GPU 0: NVIDIA A100-SXM4-40GB\n",
      "GPU 1: NVIDIA A100-SXM4-40GB\n"
     ]
    },
    {
     "data": {
      "text/plain": [
       "<torch._C.Generator at 0x7fd9e4946930>"
      ]
     },
     "execution_count": 1,
     "metadata": {},
     "output_type": "execute_result"
    }
   ],
   "source": [
    "# Import packages\n",
    "import json\n",
    "from huggingface_hub import login\n",
    "from transformers import AutoModel, AutoModelForCausalLM, AutoTokenizer, pipeline\n",
    "import transformers\n",
    "import random\n",
    "import torch\n",
    "import time\n",
    "import re\n",
    "from tqdm import tqdm\n",
    "import pandas as pd\n",
    "\n",
    "# Set GPUs\n",
    "import os\n",
    "os.environ[\"CUDA_VISIBLE_DEVICES\"] = \"0,1\"\n",
    "\n",
    "print(\"Available GPUs:\", torch.cuda.device_count())\n",
    "for i in range(torch.cuda.device_count()):\n",
    "    print(f\"GPU {i}: {torch.cuda.get_device_name(i)}\")\n",
    "\n",
    "# Set seeds\n",
    "random.seed(0)\n",
    "torch.manual_seed(0)"
   ]
  },
  {
   "cell_type": "code",
   "execution_count": 2,
   "id": "2ffb389e-c7cd-4a03-832c-0f1ef36db15f",
   "metadata": {},
   "outputs": [
    {
     "name": "stderr",
     "output_type": "stream",
     "text": [
      "Loading checkpoint shards: 100%|██████████████████████████████████████████████████████████████████████████████████████████████████████████████████████████████████████████████| 4/4 [00:06<00:00,  1.73s/it]\n"
     ]
    }
   ],
   "source": [
    "# Log into Huggingface\n",
    "with open(\"../../huggingface_token.txt\", \"r\") as file:\n",
    "    access_token = file.read().strip()\n",
    "login(access_token)\n",
    "\n",
    "# Load Huggingface Model\n",
    "model_name = \"meta-llama/Llama-3.1-8B-Instruct\"\n",
    "tokenizer = AutoTokenizer.from_pretrained(model_name)\n",
    "model = AutoModelForCausalLM.from_pretrained(model_name, token=access_token, low_cpu_mem_usage=True,\n",
    "                    torch_dtype=torch.float16, device_map='auto')"
   ]
  },
  {
   "cell_type": "code",
   "execution_count": 20,
   "id": "144e24f0-208a-4c55-b14c-fe5ded7ad4eb",
   "metadata": {},
   "outputs": [],
   "source": [
    "def prompt_outcome(note, outcome):\n",
    "    return note + \"\\nPATIENT OUTCOME: \" + outcome\n",
    "\n",
    "def get_message(note):\n",
    "    system = 'You are a cardiologist. You are given the patient outcome. Your task is to provide reasoning for the patient outcome. Please structure the results as follows: REASONING: [Your explanation here]'\n",
    "    prompt = f\"Here is the patient data: \\n{note}\"\n",
    "\n",
    "    messages = [\n",
    "\t\t{\"role\": \"system\", \"content\": system},\n",
    "\t\t{\"role\": \"user\", \"content\": prompt}\n",
    "\t]\n",
    "\n",
    "    return messages\n",
    "\n",
    "def extract_assistant_response(response):\n",
    "    parts = response.split(\"assistant\\n\\n\", 1)\n",
    "    return parts[1].strip() if len(parts) > 1 else response"
   ]
  },
  {
   "cell_type": "code",
   "execution_count": 7,
   "id": "0835d97c-4089-4672-a3e3-126830d02758",
   "metadata": {},
   "outputs": [],
   "source": [
    "# Load in csv file with prompts\n",
    "df = pd.read_csv(\"../Data/subject-info-cleaned-with-prompts.csv\")\n",
    "# print(df['Prompts'][0])"
   ]
  },
  {
   "cell_type": "code",
   "execution_count": 21,
   "id": "91e8a6d5-99ca-44b3-a77d-eb58defe2ad9",
   "metadata": {},
   "outputs": [
    {
     "name": "stdout",
     "output_type": "stream",
     "text": [
      "Age: 58\n",
      "Gender: Male \n",
      "Weight: 83 kg\n",
      "Height: 163 cm\n",
      "NYHA Class: III\n",
      "Blood Pressure: 110/75 mmHg\n",
      "Past Medical History: Idiopathic dilated cardiomyopathy\n",
      "Albumin (g/L): 42,4\n",
      "ALT or GPT (IU/L): 10.0\n",
      "AST or GOT (IU/L): 20.0\n",
      "Total Cholesterol (mmol/L): 5,4\n",
      "Creatinine (mmol/L): 106.0\n",
      "Gamma-glutamil transpeptidase (IU/L): 20\n",
      "Glucose (mmol/L): 5,7\n",
      "Hemoglobin (g/L): 132.0\n",
      "HDL (mmol/L): 1,29\n",
      "Potassium (mEq/L): 4,6\n",
      "LDL (mmol/L): 3,36\n",
      "Sodium (mEq/L): 141.0\n",
      "Pro-BNP (ng/L): 1834.0\n",
      "Protein (g/L): 69\n",
      "T3 (pg/dL): 0,05\n",
      "T4 (ng/L): 15\n",
      "Troponin (ng/mL): 0,01\n",
      "TSH (mIU/L): 3,02\n",
      "Urea (mg/dL): 7,12\n",
      "LVEF (%): 35.0\n",
      "Medications: Beta Blockers, Digoxin, Loop Diuretics, ACE Inhibitor\n",
      "ECG Impression:\n",
      "        - Ventricular Extrasystole: Polymorphic\n",
      "        - Ventricular Tachycardia: Non-sustained VT\n",
      "        - Non-sustained ventricular tachycardia (CH>10): Yes\n",
      "        - Paroxysmal supraventricular tachyarrhythmia: Unknown paroxysmal supraventricular tachyarrhythmia code\n",
      "        - Bradycardia: Unknown bradycardia code\n",
      "            \n",
      "PATIENT OUTCOME: survivor\n"
     ]
    }
   ],
   "source": [
    "print(prompt_outcome(df['Prompts'][0], df['Outcome'][0]))"
   ]
  },
  {
   "cell_type": "code",
   "execution_count": 25,
   "id": "c60e5051-5024-40f9-9fa4-2abf1932afcb",
   "metadata": {},
   "outputs": [
    {
     "data": {
      "text/plain": [
       "[{'role': 'system',\n",
       "  'content': 'You are a cardiologist. You are given the patient outcome. Your task is to provide reasoning for the patient outcome. Please structure the results as follows: REASONING: [Your explanation here]'},\n",
       " {'role': 'user',\n",
       "  'content': 'Here is the patient data: \\nAge: 65\\nGender: Male \\nWeight: 79 kg\\nHeight: 162 cm\\nNYHA Class: II\\nBlood Pressure: 115/80 mmHg\\nPast Medical History: Idiopathic dilated cardiomyopathy, Dyslipemia, Hypertension, Myocardial Infarction\\nAlbumin (g/L): 49,6\\nALT or GPT (IU/L): 18.0\\nAST or GOT (IU/L): 26.0\\nTotal Cholesterol (mmol/L): 4,68\\nCreatinine (mmol/L): 149.0\\nGamma-glutamil transpeptidase (IU/L): 14\\nGlucose (mmol/L): 4,9\\nHemoglobin (g/L): 134.0\\nHDL (mmol/L): 1,11\\nPotassium (mEq/L): 4,6\\nLDL (mmol/L): 2,82\\nSodium (mEq/L): 142.0\\nPro-BNP (ng/L): 1114.0\\nProtein (g/L): 76,9\\nT4 (ng/L): 16\\nTSH (mIU/L): 0,86\\nUrea (mg/dL): 8,99\\nLVEF (%): 25.0\\nMedications: Beta Blockers, Loop Diuretics, Spironolactone, Statins, ACE Inhibitor\\nECG Impression:\\n        - Ventricular Extrasystole: Polymorphic\\n        - Ventricular Tachycardia: Non-sustained VT\\n        - Non-sustained ventricular tachycardia (CH>10): No\\n        - Paroxysmal supraventricular tachyarrhythmia: No\\n        - Bradycardia: No\\n            \\nPATIENT OUTCOME: sudden cardiac death'}]"
      ]
     },
     "execution_count": 25,
     "metadata": {},
     "output_type": "execute_result"
    }
   ],
   "source": [
    "# Test message\n",
    "message = get_message(prompt_outcome(df['Prompts'][700], df['Outcome'][700]))\n",
    "message"
   ]
  },
  {
   "cell_type": "code",
   "execution_count": 26,
   "id": "086746f0-5444-4c00-8ea7-bc33f640612a",
   "metadata": {},
   "outputs": [
    {
     "name": "stderr",
     "output_type": "stream",
     "text": [
      "Setting `pad_token_id` to `eos_token_id`:128001 for open-end generation.\n"
     ]
    }
   ],
   "source": [
    "# Put message into LLM\n",
    "input_text = tokenizer.apply_chat_template(message, tokenize = False, add_generation_prompt = True)\n",
    "inputs = tokenizer(input_text, return_tensors = \"pt\").to(model.device)\n",
    "output = model.generate(**inputs, max_new_tokens = 1000)"
   ]
  },
  {
   "cell_type": "code",
   "execution_count": 27,
   "id": "45ea6a42-3c40-4001-ae56-98f5639fb0e0",
   "metadata": {},
   "outputs": [
    {
     "name": "stdout",
     "output_type": "stream",
     "text": [
      "REASONING: \n",
      "\n",
      "The patient's outcome of sudden cardiac death can be attributed to a combination of his underlying medical conditions and laboratory results. \n",
      "\n",
      "Firstly, the patient has a history of idiopathic dilated cardiomyopathy, which is a condition where the heart muscle becomes weakened and the heart chambers enlarge, leading to reduced heart function. The patient's left ventricular ejection fraction (LVEF) of 25% indicates severe left ventricular dysfunction, which increases the risk of sudden cardiac death.\n",
      "\n",
      "Furthermore, the patient has a history of myocardial infarction, which can lead to scarring of the heart muscle and further compromise cardiac function. His elevated Pro-BNP (B-type natriuretic peptide) level of 1114 ng/L is indicative of heart failure, which is a significant risk factor for sudden cardiac death.\n",
      "\n",
      "Additionally, the patient's blood pressure is slightly elevated (115/80 mmHg), which may be a concern for further cardiovascular strain. His lipid profile shows an elevated total cholesterol and LDL levels, which can contribute to the progression of atherosclerosis and increase the risk of cardiac events.\n",
      "\n",
      "The patient's ECG results reveal polymorphic ventricular extrasystoles and non-sustained ventricular tachycardia, which are abnormal heart rhythms that can increase the risk of sudden cardiac death. The presence of these arrhythmias, combined with the patient's underlying heart disease, likely contributed to his fatal outcome.\n",
      "\n",
      "The patient's medication regimen includes beta blockers, loop diuretics, spironolactone, statins, and ACE inhibitors, which are standard treatments for heart failure and hypertension. However, despite these medications, the patient's underlying condition appears to have progressed to a point where he experienced sudden cardiac death.\n",
      "\n",
      "In summary, the patient's outcome of sudden cardiac death can be attributed to a combination of his underlying heart disease, including idiopathic dilated cardiomyopathy, history of myocardial infarction, elevated Pro-BNP levels, abnormal ECG findings, and uncontrolled risk factors such as hypertension and dyslipidemia.\n"
     ]
    }
   ],
   "source": [
    "# Get result\n",
    "result = tokenizer.decode(output[0], skip_special_tokens = True)\n",
    "result = result.replace(\"**\", \"\")\n",
    "result = extract_assistant_response(result)\n",
    "print(result)"
   ]
  }
 ],
 "metadata": {
  "kernelspec": {
   "display_name": "Python 3 (ipykernel)",
   "language": "python",
   "name": "python3"
  },
  "language_info": {
   "codemirror_mode": {
    "name": "ipython",
    "version": 3
   },
   "file_extension": ".py",
   "mimetype": "text/x-python",
   "name": "python",
   "nbconvert_exporter": "python",
   "pygments_lexer": "ipython3",
   "version": "3.10.12"
  }
 },
 "nbformat": 4,
 "nbformat_minor": 5
}
