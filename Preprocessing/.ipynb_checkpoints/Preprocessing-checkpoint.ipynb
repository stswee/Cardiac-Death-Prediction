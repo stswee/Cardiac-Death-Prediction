{
 "cells": [
  {
   "cell_type": "code",
   "execution_count": 21,
   "id": "4b61fcf6-5c8a-4138-856e-d96fc47279fe",
   "metadata": {},
   "outputs": [],
   "source": [
    "# Import packages\n",
    "import pandas as pd"
   ]
  },
  {
   "cell_type": "code",
   "execution_count": 22,
   "id": "d8be2dbd-8c4b-42f0-82a9-4c0d55a9eeac",
   "metadata": {},
   "outputs": [],
   "source": [
    "# Read in dataset\n",
    "df = pd.read_csv(\"../Data/subject-info.csv\", delimiter = \";\")\n",
    "\n",
    "# Assign patients with exit of study as NA to values of 0 (survivor)\n",
    "df['Exit of the study'] = df['Exit of the study'].fillna(0)\n",
    "\n",
    "# Select patients with Holter ECG available\n",
    "df = df[df['Holter available'] == 1] # 992 -> 936\n",
    "\n",
    "# Keep only patients that were either survivors or died\n",
    "# Exclude patients lost to follow-up or had cardiac transplantation\n",
    "df = df[df['Exit of the study'].isin([0, 3])] # 936 -> 906\n",
    "\n",
    "# Exclude patients with non-cardiac deaths\n",
    "df = df[df['Cause of death'] != 1] # 906 -> 849\n",
    "\n",
    "# Reassign pump failure values to only be 7\n",
    "df['Cause of death'] = df['Cause of death'].replace(6, 7)\n",
    "\n",
    "# Sort based on cause of death\n",
    "# 0 = survivor, 3 = sudden cardiac death, 6 = pump failure death\n",
    "df = df.sort_values(by = ['Cause of death', 'Patient ID'])\n",
    "\n",
    "# Write csv\n",
    "df.to_csv('../Data/subject-info-cleaned.csv', index = False)"
   ]
  },
  {
   "cell_type": "code",
   "execution_count": 23,
   "id": "d1626de4-bbd4-431e-b4c2-ddc9ad41accf",
   "metadata": {},
   "outputs": [
    {
     "data": {
      "text/plain": [
       "Cause of death\n",
       "0    653\n",
       "7    108\n",
       "3     88\n",
       "Name: count, dtype: int64"
      ]
     },
     "execution_count": 23,
     "metadata": {},
     "output_type": "execute_result"
    }
   ],
   "source": [
    "# Frequency table for cause of death\n",
    "df['Cause of death'].value_counts()"
   ]
  }
 ],
 "metadata": {
  "kernelspec": {
   "display_name": "Python 3 (ipykernel)",
   "language": "python",
   "name": "python3"
  },
  "language_info": {
   "codemirror_mode": {
    "name": "ipython",
    "version": 3
   },
   "file_extension": ".py",
   "mimetype": "text/x-python",
   "name": "python",
   "nbconvert_exporter": "python",
   "pygments_lexer": "ipython3",
   "version": "3.10.12"
  }
 },
 "nbformat": 4,
 "nbformat_minor": 5
}
